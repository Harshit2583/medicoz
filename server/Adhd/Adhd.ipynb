{
 "cells": [
  {
   "cell_type": "code",
   "execution_count": 77,
   "metadata": {},
   "outputs": [],
   "source": [
    "import numpy as np\n",
    "import skfuzzy as fuzz\n",
    "from skfuzzy import control as ctrl\n",
    "\n",
    "Attention_Span = ctrl.Antecedent(np.arange(0, 11, 1), 'Attention_Span')\n",
    "Memory_Recall = ctrl.Antecedent(np.arange(0, 11, 1), 'Memory_Recall')\n",
    "Hyperactivity = ctrl.Antecedent(np.arange(0, 11, 1), 'Hyperactivity')\n",
    "Impulsivity = ctrl.Antecedent(np.arange(0, 11, 1), 'Impulsivity')\n",
    "Time_Management = ctrl.Antecedent(np.arange(0, 11, 1), 'Time_Management')\n",
    "Family_History_of_ADHD = ctrl.Antecedent(np.arange(0, 11, 1), 'Family_History_of_ADHD')\n",
    "\n",
    "\n",
    "\n",
    "adhd_severity = ctrl.Consequent(np.arange(0, 101, 1), 'adhd_severity')\n",
    "\n",
    "\n",
    "for var in [Attention_Span, Memory_Recall, Hyperactivity, Impulsivity, Time_Management, Family_History_of_ADHD]:\n",
    "    var['low'] = fuzz.trimf(var.universe, [0, 0, 5])\n",
    "    var['medium'] = fuzz.trimf(var.universe, [0, 5, 10])\n",
    "    var['high'] = fuzz.trimf(var.universe, [5, 10, 10])\n",
    "\n",
    "\n",
    "adhd_severity['low'] = fuzz.trimf(adhd_severity.universe, [0, 0, 50])\n",
    "adhd_severity['medium'] = fuzz.trimf(adhd_severity.universe, [0, 50, 100])\n",
    "adhd_severity['high'] = fuzz.trimf(adhd_severity.universe, [50, 100, 100])\n",
    "\n"
   ]
  },
  {
   "cell_type": "code",
   "execution_count": null,
   "metadata": {},
   "outputs": [],
   "source": []
  },
  {
   "cell_type": "markdown",
   "metadata": {},
   "source": [
    "how many combinatino of 6 var and each var having 3 types\n",
    "\n",
    "\n",
    "Show drafts\n",
    "\n",
    "\n",
    "If you have 6 variables and each variable can take on 3 different types, there are a total of 729 possible combinations.\n",
    "\n",
    "This is calculated using the following formula:\n",
    "\n",
    "Total combinations = (Number of types per variable) ^ (Number of variables)\n",
    "In this case:\n",
    "\n",
    "Total combinations = 3 ^ 6 = 729"
   ]
  },
  {
   "cell_type": "markdown",
   "metadata": {},
   "source": [
    "# Pair 1: Negative Mood or Low Self-Esteem\n",
    "social_or_self_esteem = social | self_esteem\n",
    "\n",
    "# Pair 2: Sleep Quantity or Low Energy Levels\n",
    "sleep_or_energy = sleep_quantity | energy_levels\n",
    "\n",
    "# Pair 3: Cognitive Decline or High Stress Levels\n",
    "cognition_or_stress = cognitive_decline | stress_levels\n",
    "\n",
    "# Pair 4: Appetite Changes or Low Social Engagement\n",
    "appetite_or_mood = appetite_changes | mood"
   ]
  },
  {
   "cell_type": "code",
   "execution_count": 78,
   "metadata": {},
   "outputs": [],
   "source": [
    "\n",
    "rules = [\n",
    "    ctrl.Rule((Attention_Span['low'] | Memory_Recall['low']) & (Hyperactivity['high'] | Impulsivity['high']) & (Time_Management['low'] | Family_History_of_ADHD['high']), adhd_severity['high']),\n",
    "    ctrl.Rule((Attention_Span['low'] | Memory_Recall['low']) & (Hyperactivity['high'] | Impulsivity['high']) & (Time_Management['medium'] | Family_History_of_ADHD['high']), adhd_severity['high']),\n",
    "    ctrl.Rule((Attention_Span['low'] | Memory_Recall['low']) & (Hyperactivity['high'] | Impulsivity['high']) & (Time_Management['high'] | Family_History_of_ADHD['high']), adhd_severity['high']),\n",
    "    ctrl.Rule((Attention_Span['low'] | Memory_Recall['low']) & (Hyperactivity['medium'] | Impulsivity['medium']) & (Time_Management['low'] | Family_History_of_ADHD['medium']), adhd_severity['high']),\n",
    "    ctrl.Rule((Attention_Span['low'] | Memory_Recall['low']) & (Hyperactivity['medium'] | Impulsivity['medium']) & (Time_Management['medium'] | Family_History_of_ADHD['medium']), adhd_severity['high']),\n",
    "    ctrl.Rule((Attention_Span['low'] | Memory_Recall['low']) & (Hyperactivity['medium'] | Impulsivity['medium']) & (Time_Management['high'] | Family_History_of_ADHD['medium']), adhd_severity['high']),\n",
    "    ctrl.Rule((Attention_Span['medium'] | Memory_Recall['medium']) & (Hyperactivity['high'] | Impulsivity['high']) & (Time_Management['low'] | Family_History_of_ADHD['high']), adhd_severity['high']),\n",
    "    ctrl.Rule((Attention_Span['medium'] | Memory_Recall['medium']) & (Hyperactivity['high'] | Impulsivity['high']) & (Time_Management['medium'] | Family_History_of_ADHD['high']), adhd_severity['high']),\n",
    "    ctrl.Rule((Attention_Span['medium'] | Memory_Recall['medium']) & (Hyperactivity['high'] | Impulsivity['high']) & (Time_Management['high'] | Family_History_of_ADHD['high']), adhd_severity['high']),\n",
    "\n",
    "\n",
    "    ctrl.Rule((Attention_Span['medium'] | Memory_Recall['medium']) & (Hyperactivity['medium'] | Impulsivity['medium']) & (Time_Management['medium'] | Family_History_of_ADHD['medium']), adhd_severity['medium']),\n",
    "    ctrl.Rule((Attention_Span['medium'] | Memory_Recall['medium']) & (Hyperactivity['medium'] | Impulsivity['medium']) & (Time_Management['high'] | Family_History_of_ADHD['medium']), adhd_severity['medium']),\n",
    "    ctrl.Rule((Attention_Span['medium'] | Memory_Recall['medium']) & (Hyperactivity['medium'] | Impulsivity['medium']) & (Time_Management['low'] | Family_History_of_ADHD['medium']), adhd_severity['medium']),\n",
    "    ctrl.Rule((Attention_Span['medium'] | Memory_Recall['medium']) & (Hyperactivity['low'] | Impulsivity['low']) & (Time_Management['medium'] | Family_History_of_ADHD['low']), adhd_severity['medium']),\n",
    "    ctrl.Rule((Attention_Span['medium'] | Memory_Recall['medium']) & (Hyperactivity['low'] | Impulsivity['low']) & (Time_Management['high'] | Family_History_of_ADHD['low']), adhd_severity['medium']),\n",
    "    ctrl.Rule((Attention_Span['medium'] | Memory_Recall['medium']) & (Hyperactivity['low'] | Impulsivity['low']) & (Time_Management['low'] | Family_History_of_ADHD['low']), adhd_severity['medium']),\n",
    "    ctrl.Rule((Attention_Span['low'] | Memory_Recall['low']) & (Hyperactivity['medium'] | Impulsivity['medium']) & (Time_Management['medium'] | Family_History_of_ADHD['medium']), adhd_severity['medium']),\n",
    "    ctrl.Rule((Attention_Span['low'] | Memory_Recall['low']) & (Hyperactivity['medium'] | Impulsivity['medium']) & (Time_Management['high'] | Family_History_of_ADHD['medium']), adhd_severity['medium']),\n",
    "    ctrl.Rule((Attention_Span['low'] | Memory_Recall['low']) & (Hyperactivity['medium'] | Impulsivity['medium']) & (Time_Management['low'] | Family_History_of_ADHD['medium']), adhd_severity['medium']),\n",
    "\n",
    "    ctrl.Rule((Attention_Span['high'] | Memory_Recall['high']) & (Hyperactivity['low'] | Impulsivity['low']) & (Time_Management['high'] | Family_History_of_ADHD['low']), adhd_severity['low']),\n",
    "    ctrl.Rule((Attention_Span['high'] | Memory_Recall['high']) & (Hyperactivity['low'] | Impulsivity['low']) & (Time_Management['medium'] | Family_History_of_ADHD['low']), adhd_severity['low']),\n",
    "    ctrl.Rule((Attention_Span['high'] | Memory_Recall['high']) & (Hyperactivity['low'] | Impulsivity['low']) & (Time_Management['low'] | Family_History_of_ADHD['low']), adhd_severity['low']),\n",
    "    ctrl.Rule((Attention_Span['medium'] | Memory_Recall['medium']) & (Hyperactivity['low'] | Impulsivity['low']) & (Time_Management['high'] | Family_History_of_ADHD['low']), adhd_severity['low']),\n",
    "    ctrl.Rule((Attention_Span['medium'] | Memory_Recall['medium']) & (Hyperactivity['low'] | Impulsivity['low']) & (Time_Management['medium'] | Family_History_of_ADHD['low']), adhd_severity['low']),\n",
    "    ctrl.Rule((Attention_Span['medium'] | Memory_Recall['medium']) & (Hyperactivity['low'] | Impulsivity['low']) & (Time_Management['low'] | Family_History_of_ADHD['low']), adhd_severity['low']),\n",
    "    ctrl.Rule((Attention_Span['high'] | Memory_Recall['high']) & (Hyperactivity['medium'] | Impulsivity['medium']) & (Time_Management['high'] | Family_History_of_ADHD['medium']), adhd_severity['low']),\n",
    "    ctrl.Rule((Attention_Span['high'] | Memory_Recall['high']) & (Hyperactivity['medium'] | Impulsivity['medium']) & (Time_Management['medium'] | Family_History_of_ADHD['medium']), adhd_severity['low']),\n",
    "    ctrl.Rule((Attention_Span['high'] | Memory_Recall['high']) & (Hyperactivity['medium'] | Impulsivity['medium']) & (Time_Management['low'] | Family_History_of_ADHD['medium']), adhd_severity['low']),\n",
    "]\n",
    "\n",
    "\n",
    "\n",
    "adhd_ctrl = ctrl.ControlSystem(rules)\n",
    "adhd_sim = ctrl.ControlSystemSimulation(adhd_ctrl)\n"
   ]
  },
  {
   "cell_type": "code",
   "execution_count": 79,
   "metadata": {},
   "outputs": [
    {
     "data": {
      "text/plain": [
       "\"4 var rules \\nrules = [\\n    ctrl.Rule((negative_mood['low']|appetite_changes['low']) & (sleep_quantity['low'] | energy_levels['low']) & (cognitive_decline['low']& stress_levels['low']) & (social_engagement['low'] | self_esteem['low']) , depression_level['low']),\\n]\""
      ]
     },
     "execution_count": 79,
     "metadata": {},
     "output_type": "execute_result"
    }
   ],
   "source": [
    "\"\"\"4 var rules \n",
    "rules = [\n",
    "    ctrl.Rule((negative_mood['low']|appetite_changes['low']) & (sleep_quantity['low'] | energy_levels['low']) & (cognitive_decline['low']& stress_levels['low']) & (social_engagement['low'] | self_esteem['low']) , depression_level['low']),\n",
    "]\"\"\""
   ]
  },
  {
   "cell_type": "markdown",
   "metadata": {},
   "source": [
    "- Attention Span:\n",
    "\n",
    "High value (closer to 10): Positive for good health (better attention span is associated with better health).\n",
    "Low value (closer to 0): Negative for good health (poor attention span is associated with poor health).\n",
    "\n",
    "- Memory Recall:\n",
    "\n",
    "High value (closer to 10): Positive for good health (good memory recall is a sign of good cognitive function).\n",
    "Low value (closer to 0): Negative for good health (poor memory recall is associated with cognitive decline or ADHD symptoms).\n",
    "\n",
    "- Hyperactivity:\n",
    "\n",
    "High value (closer to 10): Negative for good health (high hyperactivity is generally associated with ADHD symptoms).\n",
    "Low value (closer to 0): Positive for good health (lower hyperactivity is a sign of better health in ADHD context).\n",
    "\n",
    "- Impulsivity:\n",
    "\n",
    "High value (closer to 10): Negative for good health (high impulsivity suggests poor health or ADHD-related behavior).\n",
    "Low value (closer to 0): Positive for good health (better control of impulses is associated with better health).\n",
    "\n",
    "- Time Management:\n",
    "\n",
    "High value (closer to 10): Positive for good health (good time management skills reflect better functioning and health).\n",
    "Low value (closer to 0): Negative for good health (poor time management is often associated with cognitive issues or ADHD).\n",
    "\n",
    "- Family History of ADHD:\n",
    "\n",
    "High value (closer to 10): Negative for good health (strong family history of ADHD suggests a genetic predisposition to ADHD, which can affect overall health).\n",
    "Low value (closer to 0): Positive for good health (no family history suggests better health prospects in relation to ADHD)."
   ]
  },
  {
   "cell_type": "code",
   "execution_count": 84,
   "metadata": {},
   "outputs": [
    {
     "data": {
      "text/plain": [
       "83.33333333333336"
      ]
     },
     "execution_count": 84,
     "metadata": {},
     "output_type": "execute_result"
    }
   ],
   "source": [
    "adhd_sim.input['Attention_Span'] = 0\n",
    "\n",
    "adhd_sim.input['Memory_Recall'] = 0\n",
    "adhd_sim.input['Hyperactivity'] = 10\n",
    "adhd_sim.input['Time_Management'] = 0\n",
    "\n",
    "adhd_sim.input['Family_History_of_ADHD'] = 10\n",
    "adhd_sim.input['Impulsivity'] = 10  \n",
    "\n",
    "adhd_sim.compute()\n",
    "output_level = adhd_sim.output['adhd_severity']\n",
    "\n",
    "\n",
    "\n",
    "\n",
    "\"\"\"\n",
    "very l = 2\n",
    "l = 5\n",
    "m = 7\n",
    "h =9\n",
    "\"\"\"\n",
    "adhd_sim.output['adhd_severity']"
   ]
  },
  {
   "cell_type": "code",
   "execution_count": 81,
   "metadata": {},
   "outputs": [
    {
     "name": "stdout",
     "output_type": "stream",
     "text": [
      "adhd_severity: Very Low. No significant depressive symptoms detected.\n"
     ]
    }
   ],
   "source": [
    "if 0 <= output_level < 33:\n",
    "    print(\"adhd_severity: Very Low. No significant depressive symptoms detected.\")\n",
    "elif 33 <= output_level < 49:\n",
    "    print(\"adhd_severity: Low. Mild depressive symptoms might be present. Consider seeking support or monitoring your well-being.\")\n",
    "elif 49 <= output_level < 67:\n",
    "    print(\"adhd_severity: Medium. Moderate depressive symptoms are likely. Seeking professional help is recommended.\")\n",
    "elif 67 <= output_level < 100:\n",
    "    print(\"adhd_severity: High. Significant depressive symptoms are present. Professional evaluation and treatment are strongly advised.\")\n"
   ]
  },
  {
   "cell_type": "code",
   "execution_count": 82,
   "metadata": {},
   "outputs": [],
   "source": [
    "import pickle\n",
    "\n",
    "with open('OptimizedFuzzyDepression.pkl', 'wb') as f:\n",
    "    pickle.dump(adhd_sim, f)"
   ]
  },
  {
   "cell_type": "code",
   "execution_count": null,
   "metadata": {},
   "outputs": [],
   "source": []
  }
 ],
 "metadata": {
  "kernelspec": {
   "display_name": "tf",
   "language": "python",
   "name": "python3"
  },
  "language_info": {
   "codemirror_mode": {
    "name": "ipython",
    "version": 3
   },
   "file_extension": ".py",
   "mimetype": "text/x-python",
   "name": "python",
   "nbconvert_exporter": "python",
   "pygments_lexer": "ipython3",
   "version": "3.9.19"
  }
 },
 "nbformat": 4,
 "nbformat_minor": 2
}
