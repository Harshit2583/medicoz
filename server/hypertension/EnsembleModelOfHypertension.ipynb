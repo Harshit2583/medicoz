{
  "cells": [
    {
      "cell_type": "code",
      "execution_count": 2,
      "metadata": {
        "colab": {
          "base_uri": "https://localhost:8080/"
        },
        "id": "wwbMcdScIF5S",
        "outputId": "26895a17-04d5-4eff-c537-278209e37537"
      },
      "outputs": [
        {
          "name": "stdout",
          "output_type": "stream",
          "text": [
            "Ensemble Model Accuracy: 0.8894806924101198\n",
            "              precision    recall  f1-score   support\n",
            "\n",
            "           0       0.92      0.92      0.92       516\n",
            "           1       0.82      0.82      0.82       235\n",
            "\n",
            "    accuracy                           0.89       751\n",
            "   macro avg       0.87      0.87      0.87       751\n",
            "weighted avg       0.89      0.89      0.89       751\n",
            "\n"
          ]
        }
      ],
      "source": [
        "import pandas as pd\n",
        "from sklearn.model_selection import train_test_split\n",
        "from sklearn.ensemble import RandomForestClassifier\n",
        "from sklearn.svm import SVC\n",
        "from sklearn.metrics import classification_report, accuracy_score\n",
        "import numpy as np\n",
        "from sklearn.ensemble import VotingClassifier\n",
        "\n",
        "\n",
        "data = pd.read_csv(\"/content/Hypertension-risk-model-main.csv\")\n",
        "\n",
        "\n",
        "data.dropna(inplace=True)\n",
        "data = data.drop(columns=['cigsPerDay', 'glucose', 'diabetes'])\n",
        "\n",
        "\n",
        "X = data.drop(columns=['Risk'])\n",
        "y = data['Risk']\n",
        "\n",
        "X = pd.get_dummies(X, drop_first=True)\n",
        "\n",
        "\n",
        "X_train, X_test, y_train, y_test = train_test_split(X, y, test_size=0.2, random_state=42)\n",
        "\n",
        "\n",
        "rf_model = RandomForestClassifier(n_estimators=100, random_state=42)\n",
        "svm_model = SVC(kernel='linear', probability=True, random_state=42)\n",
        "\n",
        "voting_model = VotingClassifier(estimators=[\n",
        "    ('random_forest', rf_model),\n",
        "    ('svm', svm_model)\n",
        "], voting='soft')  \n",
        "\n",
        "\n",
        "voting_model.fit(X_train, y_train)\n",
        "\n",
        "\n",
        "voting_predictions = voting_model.predict(X_test)\n",
        "\n",
        "\n",
        "print(\"Ensemble Model Accuracy:\", accuracy_score(y_test, voting_predictions))\n",
        "print(classification_report(y_test, voting_predictions))\n"
      ]
    }
  ],
  "metadata": {
    "colab": {
      "provenance": []
    },
    "kernelspec": {
      "display_name": "Python 3",
      "name": "python3"
    },
    "language_info": {
      "name": "python"
    }
  },
  "nbformat": 4,
  "nbformat_minor": 0
}
