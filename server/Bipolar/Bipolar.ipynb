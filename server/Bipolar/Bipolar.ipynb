{
 "cells": [
  {
   "cell_type": "code",
   "execution_count": 12,
   "metadata": {},
   "outputs": [
    {
     "data": {
      "text/plain": [
       "(IF ((Substance_Use[high] OR Anxiety[low]) AND (Social_Interaction[low] OR Energy_Levels[low])) AND (Family_History[low] OR Sleep_Disturbance[low]) THEN bipolar_level[high]\n",
       " \tAND aggregation function : fmin\n",
       " \tOR aggregation function  : fmax,)"
      ]
     },
     "execution_count": 12,
     "metadata": {},
     "output_type": "execute_result"
    }
   ],
   "source": [
    "import numpy as np\n",
    "import skfuzzy as fuzz\n",
    "from skfuzzy import control as ctrl\n",
    "\n",
    "# Input variables (Antecedents)\n",
    "Substance_Use = ctrl.Antecedent(np.arange(0, 11, 1), 'Substance_Use')\n",
    "Anxiety = ctrl.Antecedent(np.arange(0, 11, 1), 'Anxiety')\n",
    "Social_Interaction = ctrl.Antecedent(np.arange(0, 11, 1), 'Social_Interaction')\n",
    "Energy_Levels = ctrl.Antecedent(np.arange(0, 11, 1), 'Energy_Levels')\n",
    "Family_History = ctrl.Antecedent(np.arange(0, 11, 1), 'Family_History')\n",
    "Sleep_Disturbance = ctrl.Antecedent(np.arange(0, 11, 1), 'Sleep_Disturbance')\n",
    "#self_esteem = ctrl.Antecedent(np.arange(0, 11, 1), 'self_esteem')\n",
    "#appetite_changes = ctrl.Antecedent(np.arange(0, 11, 1), 'appetite_changes')\n",
    "\n",
    "\n",
    "# Output variable (Consequent)\n",
    "bipolar_level = ctrl.Consequent(np.arange(0, 101, 1), 'bipolar_level')\n",
    "\n",
    "# Membership functions for input and output variables (3 levels)\n",
    "for var in [Substance_Use, Anxiety, Social_Interaction, Energy_Levels, Family_History, Sleep_Disturbance]:\n",
    "    var['low'] = fuzz.trimf(var.universe, [0, 0, 5])\n",
    "    var['medium'] = fuzz.trimf(var.universe, [0, 5, 10])\n",
    "    var['high'] = fuzz.trimf(var.universe, [5, 10, 10])\n",
    "\n",
    "# Membership functions for output variable\n",
    "bipolar_level['low'] = fuzz.trimf(bipolar_level.universe, [0, 0, 50])\n",
    "bipolar_level['medium'] = fuzz.trimf(bipolar_level.universe, [0, 50, 100])\n",
    "bipolar_level['high'] = fuzz.trimf(bipolar_level.universe, [50, 100, 100])\n",
    "\n",
    "ctrl.Rule((Substance_Use['high'] | Anxiety['low']) & (Social_Interaction['low'] | Energy_Levels['low']) & (Family_History['low']| Sleep_Disturbance['low']), bipolar_level['high']),\n"
   ]
  },
  {
   "cell_type": "code",
   "execution_count": null,
   "metadata": {},
   "outputs": [],
   "source": []
  },
  {
   "cell_type": "markdown",
   "metadata": {},
   "source": [
    "how many combinatino of 6 var and each var having 3 types\n",
    "\n",
    "\n",
    "Show drafts\n",
    "\n",
    "\n",
    "If you have 6 variables and each variable can take on 3 different types, there are a total of 729 possible combinations.\n",
    "\n",
    "This is calculated using the following formula:\n",
    "\n",
    "Total combinations = (Number of types per variable) ^ (Number of variables)\n",
    "In this case:\n",
    "\n",
    "Total combinations = 3 ^ 6 = 729"
   ]
  },
  {
   "cell_type": "markdown",
   "metadata": {},
   "source": [
    "# Pair 1: Negative Mood or Low Self-Esteem\n",
    "social_or_self_esteem = social | self_esteem\n",
    "\n",
    "# Pair 2: Sleep Quantity or Low Energy Levels\n",
    "sleep_or_energy = sleep_quantity | energy_levels\n",
    "\n",
    "# Pair 3: Cognitive Decline or High Stress Levels\n",
    "cognition_or_stress = cognitive_decline | stress_levels\n",
    "\n",
    "# Pair 4: Appetite Changes or Low Social Engagement\n",
    "appetite_or_mood = appetite_changes | mood"
   ]
  },
  {
   "cell_type": "code",
   "execution_count": 13,
   "metadata": {},
   "outputs": [],
   "source": [
    "# Main rules \n",
    "rules = [\n",
    "# Depression level: HIGH\n",
    "    ctrl.Rule((Substance_Use['high'] | Anxiety['low']) & (Social_Interaction['low'] | Energy_Levels['low']) & (Family_History['low']| Sleep_Disturbance['low']), bipolar_level['high']),\n",
    "    ctrl.Rule((Substance_Use['high'] | Anxiety['low']) & (Social_Interaction['low'] | Energy_Levels['low']) & (Family_History['medium']| Sleep_Disturbance['medium']), bipolar_level['high']),\n",
    "    ctrl.Rule((Substance_Use['high'] | Anxiety['low']) & (Social_Interaction['low'] | Energy_Levels['low']) & (Family_History['high']| Sleep_Disturbance['high']), bipolar_level['high']),\n",
    "    ctrl.Rule((Substance_Use['high'] | Anxiety['low']) & (Social_Interaction['medium'] | Energy_Levels['medium']) & (Family_History['low']| Sleep_Disturbance['low']), bipolar_level['high']),\n",
    "    ctrl.Rule((Substance_Use['high'] | Anxiety['low']) & (Social_Interaction['medium'] | Energy_Levels['medium']) & (Family_History['medium']| Sleep_Disturbance['medium']), bipolar_level['high']),\n",
    "    ctrl.Rule((Substance_Use['high'] | Anxiety['low']) & (Social_Interaction['medium'] | Energy_Levels['medium']) & (Family_History['high']| Sleep_Disturbance['high']), bipolar_level['high']),\n",
    "    ctrl.Rule((Substance_Use['medium'] | Anxiety['medium']) & (Social_Interaction['low'] | Energy_Levels['low']) & (Family_History['low']| Sleep_Disturbance['low']), bipolar_level['high']),\n",
    "    ctrl.Rule((Substance_Use['medium'] | Anxiety['medium']) & (Social_Interaction['low'] | Energy_Levels['low']) & (Family_History['medium']| Sleep_Disturbance['medium']), bipolar_level['high']),\n",
    "    ctrl.Rule((Substance_Use['medium'] | Anxiety['medium']) & (Social_Interaction['low'] | Energy_Levels['low']) & (Family_History['high']| Sleep_Disturbance['high']), bipolar_level['high']),\n",
    "\n",
    "# Depression level: MEDIUM\n",
    "    ctrl.Rule((Substance_Use['medium'] | Anxiety['medium']) & (Social_Interaction['medium'] | Energy_Levels['medium']) & (Family_History['low']| Sleep_Disturbance['low']), bipolar_level['medium']),\n",
    "    ctrl.Rule((Substance_Use['medium'] | Anxiety['medium']) & (Social_Interaction['medium'] | Energy_Levels['medium']) & (Family_History['medium']| Sleep_Disturbance['medium']), bipolar_level['medium']),\n",
    "    ctrl.Rule((Substance_Use['medium'] | Anxiety['medium']) & (Social_Interaction['medium'] | Energy_Levels['medium']) & (Family_History['high']| Sleep_Disturbance['high']), bipolar_level['medium']),\n",
    "    ctrl.Rule((Substance_Use['low'] | Anxiety['high']) & (Social_Interaction['low'] | Energy_Levels['low']) & (Family_History['low']| Sleep_Disturbance['low']), bipolar_level['medium']),\n",
    "    ctrl.Rule((Substance_Use['low'] | Anxiety['high']) & (Social_Interaction['low'] | Energy_Levels['low']) & (Family_History['medium']| Sleep_Disturbance['medium']), bipolar_level['medium']),\n",
    "    ctrl.Rule((Substance_Use['low'] | Anxiety['high']) & (Social_Interaction['low'] | Energy_Levels['low']) & (Family_History['high']| Sleep_Disturbance['high']), bipolar_level['medium']),\n",
    "    ctrl.Rule((Substance_Use['low'] | Anxiety['high']) & (Social_Interaction['medium'] | Energy_Levels['medium']) & (Family_History['low']| Sleep_Disturbance['low']), bipolar_level['medium']),\n",
    "    ctrl.Rule((Substance_Use['low'] | Anxiety['high']) & (Social_Interaction['medium'] | Energy_Levels['medium']) & (Family_History['medium']| Sleep_Disturbance['medium']), bipolar_level['medium']),\n",
    "    ctrl.Rule((Substance_Use['low'] | Anxiety['high']) & (Social_Interaction['medium'] | Energy_Levels['medium']) & (Family_History['high']| Sleep_Disturbance['high']), bipolar_level['medium']),\n",
    "\n",
    "# Depression level: LOW\n",
    "    ctrl.Rule((Substance_Use['high'] | Anxiety['low']) & (Social_Interaction['high'] | Energy_Levels['high']) & (Family_History['low']| Sleep_Disturbance['low']), bipolar_level['low']),\n",
    "    ctrl.Rule((Substance_Use['high'] | Anxiety['low']) & (Social_Interaction['high'] | Energy_Levels['high']) & (Family_History['medium']| Sleep_Disturbance['medium']), bipolar_level['low']),\n",
    "    ctrl.Rule((Substance_Use['high'] | Anxiety['low']) & (Social_Interaction['high'] | Energy_Levels['high']) & (Family_History['high']| Sleep_Disturbance['high']), bipolar_level['low']),\n",
    "    ctrl.Rule((Substance_Use['medium'] | Anxiety['medium']) & (Social_Interaction['high'] | Energy_Levels['high']) & (Family_History['low']| Sleep_Disturbance['low']), bipolar_level['low']),\n",
    "    ctrl.Rule((Substance_Use['medium'] | Anxiety['medium']) & (Social_Interaction['high'] | Energy_Levels['high']) & (Family_History['medium']| Sleep_Disturbance['medium']), bipolar_level['low']),\n",
    "    ctrl.Rule((Substance_Use['medium'] | Anxiety['medium']) & (Social_Interaction['high'] | Energy_Levels['high']) & (Family_History['high']| Sleep_Disturbance['high']), bipolar_level['low']),\n",
    "    ctrl.Rule((Substance_Use['low'] | Anxiety['high']) & (Social_Interaction['high'] | Energy_Levels['high']) & (Family_History['low']| Sleep_Disturbance['low']), bipolar_level['low']),\n",
    "    ctrl.Rule((Substance_Use['low'] | Anxiety['high']) & (Social_Interaction['high'] | Energy_Levels['high']) & (Family_History['medium']| Sleep_Disturbance['medium']), bipolar_level['low']),\n",
    "    ctrl.Rule((Substance_Use['low'] | Anxiety['high']) & (Social_Interaction['high'] | Energy_Levels['high']) & (Family_History['high']| Sleep_Disturbance['high']), bipolar_level['low']),\n",
    "]\n",
    "\n",
    "# Control system and simulation\n",
    "bipolar_level_ctrl = ctrl.ControlSystem(rules)\n",
    "bipolar_level_sim = ctrl.ControlSystemSimulation(bipolar_level_ctrl)\n"
   ]
  },
  {
   "cell_type": "code",
   "execution_count": 14,
   "metadata": {},
   "outputs": [
    {
     "data": {
      "text/plain": [
       "\"4 var rules \\nrules = [\\n    ctrl.Rule((negative_mood['low']|appetite_changes['low']) & (sleep_quantity['low'] | energy_levels['low']) & (cognitive_decline['low']& stress_levels['low']) & (social_engagement['low'] | self_esteem['low']) , depression_level['low']),\\n]\""
      ]
     },
     "execution_count": 14,
     "metadata": {},
     "output_type": "execute_result"
    }
   ],
   "source": [
    "\"\"\"4 var rules \n",
    "rules = [\n",
    "    ctrl.Rule((negative_mood['low']|appetite_changes['low']) & (sleep_quantity['low'] | energy_levels['low']) & (cognitive_decline['low']& stress_levels['low']) & (social_engagement['low'] | self_esteem['low']) , depression_level['low']),\n",
    "]\"\"\""
   ]
  },
  {
   "cell_type": "code",
   "execution_count": null,
   "metadata": {},
   "outputs": [],
   "source": []
  },
  {
   "cell_type": "code",
   "execution_count": 15,
   "metadata": {},
   "outputs": [
    {
     "data": {
      "text/plain": [
       "56.150442477876055"
      ]
     },
     "execution_count": 15,
     "metadata": {},
     "output_type": "execute_result"
    }
   ],
   "source": [
    "bipolar_level_sim.input['Substance_Use'] = 5\n",
    "bipolar_level_sim.input['Anxiety'] = 2\n",
    "bipolar_level_sim.input['Social_Interaction'] = 5\n",
    "bipolar_level_sim.input['Energy_Levels'] = 5\n",
    "bipolar_level_sim.input['Family_History'] = 7\n",
    "bipolar_level_sim.input['Sleep_Disturbance'] = 9\n",
    "# Compute and print the output\n",
    "bipolar_level_sim.compute()\n",
    "output_level = bipolar_level_sim.output['bipolar_level']\n",
    "\n",
    "\n",
    "\n",
    "# Optionally, plot the results\n",
    "#bipolar_level.view(sim=bipolar_level_sim)\n",
    "# 33, 49, 65, 81\n",
    "\n",
    "\n",
    "\"\"\"\n",
    "very l = 2\n",
    "l = 5\n",
    "m = 7\n",
    "h =9\n",
    "\"\"\"\n",
    "bipolar_level_sim.output['bipolar_level']"
   ]
  },
  {
   "cell_type": "code",
   "execution_count": 16,
   "metadata": {},
   "outputs": [
    {
     "name": "stdout",
     "output_type": "stream",
     "text": [
      "Depression Level: Medium. Moderate depressive symptoms are likely. Seeking professional help is recommended.\n"
     ]
    }
   ],
   "source": [
    "if 0 <= output_level < 33:\n",
    "    print(\"Depression Level: Very Low. No significant depressive symptoms detected.\")\n",
    "elif 33 <= output_level < 49:\n",
    "    print(\"Depression Level: Low. Mild depressive symptoms might be present. Consider seeking support or monitoring your well-being.\")\n",
    "elif 49 <= output_level < 67:\n",
    "    print(\"Depression Level: Medium. Moderate depressive symptoms are likely. Seeking professional help is recommended.\")\n",
    "elif 67 <= output_level < 100:\n",
    "    print(\"Depression Level: High. Significant depressive symptoms are present. Professional evaluation and treatment are strongly advised.\")\n"
   ]
  },
  {
   "cell_type": "code",
   "execution_count": 17,
   "metadata": {},
   "outputs": [],
   "source": [
    "import pickle\n",
    "\n",
    "with open('OptimizedFuzzyDepression.pkl', 'wb') as f:\n",
    "    pickle.dump(bipolar_level_sim, f)"
   ]
  },
  {
   "cell_type": "code",
   "execution_count": null,
   "metadata": {},
   "outputs": [],
   "source": []
  }
 ],
 "metadata": {
  "kernelspec": {
   "display_name": "tf",
   "language": "python",
   "name": "python3"
  },
  "language_info": {
   "codemirror_mode": {
    "name": "ipython",
    "version": 3
   },
   "file_extension": ".py",
   "mimetype": "text/x-python",
   "name": "python",
   "nbconvert_exporter": "python",
   "pygments_lexer": "ipython3",
   "version": "3.9.19"
  }
 },
 "nbformat": 4,
 "nbformat_minor": 2
}
